{
 "cells": [
  {
   "cell_type": "code",
   "execution_count": 1,
   "id": "45270c1b-528f-4b8a-8697-f41e002f3b47",
   "metadata": {},
   "outputs": [],
   "source": [
    "import numpy as np"
   ]
  },
  {
   "cell_type": "code",
   "execution_count": 2,
   "id": "25e9200c-e655-4140-82d8-e91cdba7011f",
   "metadata": {},
   "outputs": [],
   "source": [
    "x = np.array([1,2,3])"
   ]
  },
  {
   "cell_type": "code",
   "execution_count": 3,
   "id": "e7ded850-e298-49f9-873e-1aa0eabb118a",
   "metadata": {},
   "outputs": [],
   "source": [
    "y = np.exp(x)"
   ]
  },
  {
   "cell_type": "code",
   "execution_count": 4,
   "id": "4605f4a0-ddad-4055-80b3-8d1563f67592",
   "metadata": {},
   "outputs": [
    {
     "name": "stdout",
     "output_type": "stream",
     "text": [
      "[ 2.71828183  7.3890561  20.08553692]\n"
     ]
    }
   ],
   "source": [
    "print(y)"
   ]
  },
  {
   "cell_type": "code",
   "execution_count": 5,
   "id": "a1fdee06-a443-4daf-bf40-380b948392b5",
   "metadata": {},
   "outputs": [],
   "source": [
    "import pandas as pd"
   ]
  },
  {
   "cell_type": "code",
   "execution_count": 6,
   "id": "26212665-f0b5-4fe8-9311-cd156eb6da42",
   "metadata": {},
   "outputs": [],
   "source": [
    "w = np.zeros((1))"
   ]
  },
  {
   "cell_type": "code",
   "execution_count": 8,
   "id": "6ff64269-6a4d-4b14-81da-2059b5fcb108",
   "metadata": {},
   "outputs": [],
   "source": [
    "w = np.zeros((1,2))"
   ]
  },
  {
   "cell_type": "code",
   "execution_count": 9,
   "id": "3323357e-85e8-48f4-a538-7bd0234a6c47",
   "metadata": {},
   "outputs": [
    {
     "data": {
      "text/plain": [
       "array([[0., 0.]])"
      ]
     },
     "execution_count": 9,
     "metadata": {},
     "output_type": "execute_result"
    }
   ],
   "source": [
    "w"
   ]
  },
  {
   "cell_type": "code",
   "execution_count": null,
   "id": "5a16ddb7-1e5f-4259-83f2-de0fe5fe3a4c",
   "metadata": {},
   "outputs": [],
   "source": []
  }
 ],
 "metadata": {
  "kernelspec": {
   "display_name": "Python 3 (ipykernel)",
   "language": "python",
   "name": "python3"
  },
  "language_info": {
   "codemirror_mode": {
    "name": "ipython",
    "version": 3
   },
   "file_extension": ".py",
   "mimetype": "text/x-python",
   "name": "python",
   "nbconvert_exporter": "python",
   "pygments_lexer": "ipython3",
   "version": "3.11.4"
  }
 },
 "nbformat": 4,
 "nbformat_minor": 5
}
